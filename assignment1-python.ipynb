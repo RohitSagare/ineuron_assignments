{
 "cells": [
  {
   "cell_type": "code",
   "execution_count": null,
   "id": "5a9f9eab",
   "metadata": {},
   "outputs": [],
   "source": [
    "#assignment"
   ]
  },
  {
   "cell_type": "raw",
   "id": "662afdc3",
   "metadata": {},
   "source": [
    "1. In the below elements which of them are values or an expression? eg:- values can be\n",
    "integer or string and expressions will be mathematical operators.\n",
    "* :- expression\n",
    "& :- expression\n",
    "'hello':- value\n",
    "-87.8:- value\n",
    "- :- expression\n",
    "/ :-expression\n",
    "+ :- expression\n",
    "6 :- value"
   ]
  },
  {
   "cell_type": "raw",
   "id": "cb1c2cc1",
   "metadata": {},
   "source": [
    "2. What is the difference between string and variable?\n",
    "\n",
    "string :- string is the form of data or a datatype\n",
    "          Using variable we store string type of data\n",
    "\n",
    "variable :- variables are used to store the data\n",
    "            we can store string type of data in a variable"
   ]
  },
  {
   "cell_type": "raw",
   "id": "67604121",
   "metadata": {},
   "source": [
    "3. Describe three different data types.\n",
    "\n",
    "i> Integers: In Python integer a class. \n",
    "             It contains positive or negative whole numbers.\n",
    "eg. x=4 #int\n",
    "\n",
    "ii>Float: In python float is a class.\n",
    "          It is a real number with floating point representation.\n",
    "          It is specified by a decimal point.\n",
    "eg. x=22.45 #float\n",
    "\n",
    "iii>Complex:- In python complex is a class.\n",
    "              It is specified as (real part) + (imaginary part)j.\n",
    "eg.x=7 + 8j\n",
    "                "
   ]
  },
  {
   "cell_type": "raw",
   "id": "b2bbfe6e",
   "metadata": {},
   "source": [
    "4. What is an expression made up of? What do all expressions do?\n",
    "\n",
    "expression:- expression is a combination of operators and operands\n",
    "Operators:-  Operators are used to perform operations on variables and values.\n",
    "operands:-   The operands indicate what items to apply the action to\n",
    "\n",
    "+ : add (plus).\n",
    "- : subtract (minus).\n",
    "x : multiply.\n",
    "/ : divide.\n",
    "** : power.\n",
    "% : modulo.\n",
    "<< : left shift.\n",
    ">> : right shift.\n",
    "& : bit-wise AND.\n",
    "| : bit-wise OR.\n",
    "^ : bit-wise XOR.\n",
    "~ : bit-wise invert.\n",
    "< : less than.\n",
    "> : greater than.\n",
    "<= : less than or equal to.\n",
    ">= : greater than or equal to.\n",
    "== : equal to.\n",
    "!= : not equal to.\n",
    "and : boolean AND.\n",
    "or : boolean OR.\n",
    "not : boolean NOT.\n",
    "\n",
    "\n",
    "Types of Expression in Python\n",
    "\n",
    "1. Constant Expressions:\n",
    "    constant expression in Python that contains only constant values is known as a constant expression.\n",
    "    \n",
    "2. Arithmetic Expressions:\n",
    "        An expression in Python that contains a combination of operators, operands, and sometimes parenthesis is known as an arithmetic expression.   \n",
    "\n",
    "3. Integral Expressions\n",
    "        An integral expression in Python is used for computations and type conversion\n",
    "\n",
    "4. Floating Expressions\n",
    "        A floating expression in Python is used for computations and type conversion\n",
    "\n",
    "5. Relational Expressions\n",
    "        A relational expression in Python can be considered as a combination of two or more arithmetic expressions joined using relational operators.\n",
    "        \n",
    "6. Logical Expressions\n",
    "As the name suggests, a logical expression performs the logical computation, and the overall expression results in either True or False       \n",
    "    \n",
    "7. Bitwise Expressions\n",
    "                The expression in which the operation or computation is performed at the bit level is known as a bitwise expression in Python.\n",
    "                \n",
    "8. Combinational Expressions\n",
    "            As the name suggests, a combination expression can contain a single or multiple expressions which result in an integer or boolean value"
   ]
  },
  {
   "cell_type": "raw",
   "id": "faa35860",
   "metadata": {},
   "source": [
    "5. This assignment statements, like spam = 10. What is the difference between an\n",
    "expression and a statement?\n",
    "\n",
    "\n",
    "statement: \n",
    "         A statement in Python is used for creating variables or for displaying values.\n",
    "         A statement in Python is not evaluated for some results.\n",
    "         The execution of a statement changes the state of the variable.\n",
    "         A statement can be an expression.\n",
    "         \n",
    "         eg. spam=10\n",
    "\n",
    "\n",
    "expression:\n",
    "        The expression in Python produces some value or result after being interpreted by the Python interpreter.\n",
    "        An expression in Python is evaluated for some results.\n",
    "        The expression evaluation does not result in any state change.\n",
    "        A statement can be an expression.\n",
    "        \n",
    "        eg.spam=10+10\n",
    "        \n",
    "      \n",
    "        \n",
    "        "
   ]
  },
  {
   "cell_type": "code",
   "execution_count": 4,
   "id": "51bfaad8",
   "metadata": {},
   "outputs": [
    {
     "data": {
      "text/plain": [
       "23"
      ]
     },
     "execution_count": 4,
     "metadata": {},
     "output_type": "execute_result"
    }
   ],
   "source": [
    "\n",
    "#6. After running the following code, what does the variable bacon contain?\n",
    "bacon = 22\n",
    "bacon + 1\n",
    "\n",
    "#o/p bacon=23"
   ]
  },
  {
   "cell_type": "raw",
   "id": "7fbe6895",
   "metadata": {},
   "source": [
    "#7. What should the values of the following two terms be?\n",
    "'spam'+'spamspam'\n",
    "\n",
    "o/p ->  'spamspamspam'\n",
    "\n",
    "'spam'*3\n",
    " o/p -> 'spamspamspam'"
   ]
  },
  {
   "cell_type": "raw",
   "id": "42c40377",
   "metadata": {},
   "source": [
    "#8. Why is eggs a valid variable name while 100 is invalid?\n",
    "\n",
    "i)A variable name can only contain alpha-numeric characters and underscores (A-z, 0-9, and _ )\n",
    "ii)A variable name cannot start with a number.\n",
    "\n",
    "eggs is valid variable because above condition fulfilled\n",
    "\n",
    "100 is invalid variable because second condition false\n"
   ]
  },
  {
   "cell_type": "raw",
   "id": "46c928b7",
   "metadata": {},
   "source": [
    "9. What three functions can be used to get the integer, floating-point number, or string\n",
    "version of a value?\n",
    "\n",
    "The int() , float() , and str( ) functions will evaluate to the integer, floating-point number, and string versions of the value passed to them."
   ]
  },
  {
   "cell_type": "raw",
   "id": "8fe6e7f2",
   "metadata": {},
   "source": [
    "#10. Why does this expression cause an error? \n",
    "'I have eaten' + 99 +'burritos.'\n",
    "\n",
    "TypeError: can only concatenate str (not \"int\") to str\n",
    "above error throw while excute code\n",
    "\n",
    "How can you fix it?\n",
    "'I have eaten' + str(99) +'burritos.'\n",
    "using type casting we fix this issue."
   ]
  },
  {
   "cell_type": "code",
   "execution_count": null,
   "id": "5f70e204",
   "metadata": {},
   "outputs": [],
   "source": []
  }
 ],
 "metadata": {
  "kernelspec": {
   "display_name": "Python 3 (ipykernel)",
   "language": "python",
   "name": "python3"
  },
  "language_info": {
   "codemirror_mode": {
    "name": "ipython",
    "version": 3
   },
   "file_extension": ".py",
   "mimetype": "text/x-python",
   "name": "python",
   "nbconvert_exporter": "python",
   "pygments_lexer": "ipython3",
   "version": "3.9.13"
  }
 },
 "nbformat": 4,
 "nbformat_minor": 5
}
